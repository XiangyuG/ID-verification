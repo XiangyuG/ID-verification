{
 "cells": [
  {
   "cell_type": "code",
   "execution_count": 2,
   "id": "87b695ed",
   "metadata": {},
   "outputs": [],
   "source": [
    "# Do the necessary imports\n",
    "import numpy as np\n",
    "from qiskit import QuantumCircuit, QuantumRegister, ClassicalRegister\n",
    "from qiskit import IBMQ, Aer, transpile\n",
    "from qiskit.visualization import plot_histogram, plot_bloch_multivector, array_to_latex\n",
    "from qiskit.extensions import Initialize\n",
    "from qiskit.result import marginal_counts\n",
    "from qiskit.quantum_info import random_statevector"
   ]
  },
  {
   "cell_type": "code",
   "execution_count": 3,
   "id": "ed9c9d54",
   "metadata": {},
   "outputs": [],
   "source": [
    "## SETUP\n",
    "# Protocol uses 3 qubits and 2 classical bits in 2 different registers\n",
    "\n",
    "qr = QuantumRegister(3, name=\"q\")    # Protocol uses 3 qubits\n",
    "crz = ClassicalRegister(1, name=\"crz\") # and 2 classical bits\n",
    "crx = ClassicalRegister(1, name=\"crx\") # in 2 different registers\n",
    "teleportation_circuit = QuantumCircuit(qr, crz, crx)"
   ]
  },
  {
   "cell_type": "code",
   "execution_count": 4,
   "id": "5f19f8a5",
   "metadata": {},
   "outputs": [],
   "source": [
    "def create_bell_pair(qc, a, b):\n",
    "    \"\"\"Creates a bell pair in qc using qubits a & b\"\"\"\n",
    "    qc.h(a) # Put qubit a into state |+>\n",
    "    qc.cx(a,b) # CNOT with a as control and b as target"
   ]
  },
  {
   "cell_type": "code",
   "execution_count": 5,
   "id": "b92a0013",
   "metadata": {},
   "outputs": [
    {
     "data": {
      "text/html": [
       "<pre style=\"word-wrap: normal;white-space: pre;background: #fff0;line-height: 1.1;font-family: &quot;Courier New&quot;,Courier,monospace\">                 \n",
       "  q_0: ──────────\n",
       "       ┌───┐     \n",
       "  q_1: ┤ H ├──■──\n",
       "       └───┘┌─┴─┐\n",
       "  q_2: ─────┤ X ├\n",
       "            └───┘\n",
       "crz: 1/══════════\n",
       "                 \n",
       "crx: 1/══════════\n",
       "                 </pre>"
      ],
      "text/plain": [
       "                 \n",
       "  q_0: ──────────\n",
       "       ┌───┐     \n",
       "  q_1: ┤ H ├──■──\n",
       "       └───┘┌─┴─┐\n",
       "  q_2: ─────┤ X ├\n",
       "            └───┘\n",
       "crz: 1/══════════\n",
       "                 \n",
       "crx: 1/══════════\n",
       "                 "
      ]
     },
     "execution_count": 5,
     "metadata": {},
     "output_type": "execute_result"
    }
   ],
   "source": [
    "## SETUP\n",
    "# Protocol uses 3 qubits and 2 classical bits in 2 different registers\n",
    "qr = QuantumRegister(3, name=\"q\")\n",
    "crz, crx = ClassicalRegister(1, name=\"crz\"), ClassicalRegister(1, name=\"crx\")\n",
    "teleportation_circuit = QuantumCircuit(qr, crz, crx)\n",
    "\n",
    "## STEP 1\n",
    "# In our case, Telamon entangles qubits q1 and q2\n",
    "# Let's apply this to our circuit:\n",
    "create_bell_pair(teleportation_circuit, 1, 2)\n",
    "# And view the circuit so far:\n",
    "teleportation_circuit.draw()"
   ]
  },
  {
   "cell_type": "code",
   "execution_count": 6,
   "id": "75e791ff",
   "metadata": {},
   "outputs": [],
   "source": [
    "def alice_gates(qc, psi, a):\n",
    "    qc.cx(psi, a)\n",
    "    qc.h(psi)"
   ]
  },
  {
   "cell_type": "code",
   "execution_count": 7,
   "id": "de9a88b8",
   "metadata": {},
   "outputs": [
    {
     "data": {
      "text/html": [
       "<pre style=\"word-wrap: normal;white-space: pre;background: #fff0;line-height: 1.1;font-family: &quot;Courier New&quot;,Courier,monospace\">                  ░      ┌───┐\n",
       "  q_0: ───────────░───■──┤ H ├\n",
       "       ┌───┐      ░ ┌─┴─┐└───┘\n",
       "  q_1: ┤ H ├──■───░─┤ X ├─────\n",
       "       └───┘┌─┴─┐ ░ └───┘     \n",
       "  q_2: ─────┤ X ├─░───────────\n",
       "            └───┘ ░           \n",
       "crz: 1/═══════════════════════\n",
       "                              \n",
       "crx: 1/═══════════════════════\n",
       "                              </pre>"
      ],
      "text/plain": [
       "                  ░      ┌───┐\n",
       "  q_0: ───────────░───■──┤ H ├\n",
       "       ┌───┐      ░ ┌─┴─┐└───┘\n",
       "  q_1: ┤ H ├──■───░─┤ X ├─────\n",
       "       └───┘┌─┴─┐ ░ └───┘     \n",
       "  q_2: ─────┤ X ├─░───────────\n",
       "            └───┘ ░           \n",
       "crz: 1/═══════════════════════\n",
       "                              \n",
       "crx: 1/═══════════════════════\n",
       "                              "
      ]
     },
     "execution_count": 7,
     "metadata": {},
     "output_type": "execute_result"
    }
   ],
   "source": [
    "## SETUP\n",
    "# Protocol uses 3 qubits and 2 classical bits in 2 different registers\n",
    "qr = QuantumRegister(3, name=\"q\")\n",
    "crz, crx = ClassicalRegister(1, name=\"crz\"), ClassicalRegister(1, name=\"crx\")\n",
    "teleportation_circuit = QuantumCircuit(qr, crz, crx)\n",
    "\n",
    "## STEP 1\n",
    "create_bell_pair(teleportation_circuit, 1, 2)\n",
    "\n",
    "## STEP 2\n",
    "teleportation_circuit.barrier() # Use barrier to separate steps\n",
    "alice_gates(teleportation_circuit, 0, 1)\n",
    "teleportation_circuit.draw()"
   ]
  },
  {
   "cell_type": "code",
   "execution_count": 8,
   "id": "173d8d7b",
   "metadata": {},
   "outputs": [],
   "source": [
    "def measure_and_send(qc, a, b):\n",
    "    \"\"\"Measures qubits a & b and 'sends' the results to Bob\"\"\"\n",
    "    qc.barrier()\n",
    "    qc.measure(a,0)\n",
    "    qc.measure(b,1)"
   ]
  },
  {
   "cell_type": "code",
   "execution_count": 9,
   "id": "e1e93abe",
   "metadata": {},
   "outputs": [
    {
     "data": {
      "text/html": [
       "<pre style=\"word-wrap: normal;white-space: pre;background: #fff0;line-height: 1.1;font-family: &quot;Courier New&quot;,Courier,monospace\">                  ░      ┌───┐ ░ ┌─┐   \n",
       "  q_0: ───────────░───■──┤ H ├─░─┤M├───\n",
       "       ┌───┐      ░ ┌─┴─┐└───┘ ░ └╥┘┌─┐\n",
       "  q_1: ┤ H ├──■───░─┤ X ├──────░──╫─┤M├\n",
       "       └───┘┌─┴─┐ ░ └───┘      ░  ║ └╥┘\n",
       "  q_2: ─────┤ X ├─░────────────░──╫──╫─\n",
       "            └───┘ ░            ░  ║  ║ \n",
       "crz: 1/═══════════════════════════╩══╬═\n",
       "                                  0  ║ \n",
       "crx: 1/══════════════════════════════╩═\n",
       "                                     0 </pre>"
      ],
      "text/plain": [
       "                  ░      ┌───┐ ░ ┌─┐   \n",
       "  q_0: ───────────░───■──┤ H ├─░─┤M├───\n",
       "       ┌───┐      ░ ┌─┴─┐└───┘ ░ └╥┘┌─┐\n",
       "  q_1: ┤ H ├──■───░─┤ X ├──────░──╫─┤M├\n",
       "       └───┘┌─┴─┐ ░ └───┘      ░  ║ └╥┘\n",
       "  q_2: ─────┤ X ├─░────────────░──╫──╫─\n",
       "            └───┘ ░            ░  ║  ║ \n",
       "crz: 1/═══════════════════════════╩══╬═\n",
       "                                  0  ║ \n",
       "crx: 1/══════════════════════════════╩═\n",
       "                                     0 "
      ]
     },
     "execution_count": 9,
     "metadata": {},
     "output_type": "execute_result"
    }
   ],
   "source": [
    "## SETUP\n",
    "# Protocol uses 3 qubits and 2 classical bits in 2 different registers\n",
    "qr = QuantumRegister(3, name=\"q\")\n",
    "crz, crx = ClassicalRegister(1, name=\"crz\"), ClassicalRegister(1, name=\"crx\")\n",
    "teleportation_circuit = QuantumCircuit(qr, crz, crx)\n",
    "\n",
    "## STEP 1\n",
    "create_bell_pair(teleportation_circuit, 1, 2)\n",
    "\n",
    "## STEP 2\n",
    "teleportation_circuit.barrier() # Use barrier to separate steps\n",
    "alice_gates(teleportation_circuit, 0, 1)\n",
    "\n",
    "## STEP 3\n",
    "measure_and_send(teleportation_circuit, 0 ,1)\n",
    "teleportation_circuit.draw()"
   ]
  },
  {
   "cell_type": "code",
   "execution_count": null,
   "id": "e6476716",
   "metadata": {},
   "outputs": [],
   "source": []
  },
  {
   "cell_type": "code",
   "execution_count": null,
   "id": "67043419",
   "metadata": {},
   "outputs": [],
   "source": []
  },
  {
   "cell_type": "code",
   "execution_count": null,
   "id": "c21cab1a",
   "metadata": {},
   "outputs": [],
   "source": []
  },
  {
   "cell_type": "code",
   "execution_count": null,
   "id": "1df6033c",
   "metadata": {},
   "outputs": [],
   "source": []
  },
  {
   "cell_type": "code",
   "execution_count": 230,
   "id": "d8f2cbcd",
   "metadata": {},
   "outputs": [],
   "source": [
    "# QuNet Experiments\n",
    "import random\n",
    "\n",
    "def get_op_list(operation_num):\n",
    "    gate_choice = ['X', 'Y', 'Z', 'H']\n",
    "    ret_l = []\n",
    "    for i in range(operation_num):\n",
    "        rv = random.randrange(0, len(gate_choice))\n",
    "        ret_l.append(gate_choice[rv])\n",
    "    return ret_l\n"
   ]
  },
  {
   "cell_type": "code",
   "execution_count": 231,
   "id": "2ab7ab69",
   "metadata": {},
   "outputs": [],
   "source": [
    "def generation(op_list, circuit):\n",
    "    # Generation process\n",
    "    for i in range(len(op_list)):\n",
    "        if op_list[i] == 'H':\n",
    "            circuit.h(0)\n",
    "        elif op_list[i] == 'X':\n",
    "            circuit.x(0)\n",
    "        elif op_list[i] == 'Y':\n",
    "            circuit.y(0)\n",
    "        elif op_list[i] == 'Z':\n",
    "            circuit.z(0)\n",
    "    return circuit\n",
    "\n",
    "def verification(op_list, circuit):\n",
    "    # Generation process\n",
    "    for i in range(len(op_list) - 1, -1, -1):\n",
    "        if op_list[i] == 'H':\n",
    "            circuit.h(0)\n",
    "        elif op_list[i] == 'X':\n",
    "            circuit.x(0)\n",
    "        elif op_list[i] == 'Y':\n",
    "            circuit.y(0)\n",
    "        elif op_list[i] == 'Z':\n",
    "            circuit.z(0)\n",
    "    return circuit"
   ]
  },
  {
   "cell_type": "code",
   "execution_count": 233,
   "id": "02b33d15",
   "metadata": {},
   "outputs": [],
   "source": [
    "from qiskit import QuantumCircuit, transpile\n",
    "from qiskit_aer import AerSimulator\n",
    "from qiskit.visualization import plot_histogram\n",
    "\n",
    "def origin(op_list):\n",
    "\n",
    "    # Use Aer's AerSimulator\n",
    "    simulator = AerSimulator()\n",
    "\n",
    "    # Create a Quantum Circuit acting on the q register\n",
    "    circuit = QuantumCircuit(1, 1)\n",
    "\n",
    "    circuit = generation(op_list, circuit)\n",
    "\n",
    "    # verification process\n",
    "    circuit = verification(op_list, circuit)\n",
    "\n",
    "    # Map the quantum measurement to the classical bits\n",
    "    # circuit.measure([0, 1], [0, 1])\n",
    "    circuit.measure([0], [0])\n",
    "\n",
    "    # Compile the circuit for the support instruction set (basis_gates)\n",
    "    # and topology (coupling_map) of the backend\n",
    "    compiled_circuit = transpile(circuit, simulator)\n",
    "\n",
    "    # Execute the circuit on the aer simulator\n",
    "    job = simulator.run(compiled_circuit, shots=1000)\n",
    "\n",
    "    # Grab results from the job\n",
    "    result = job.result()\n",
    "\n",
    "    # Returns counts\n",
    "    counts = result.get_counts(compiled_circuit)\n",
    "#     print(\"\\nTotal count old for 0 and 1 are:\", counts)\n",
    "\n",
    "    # Draw the circuit\n",
    "    circuit.draw(\"mpl\")\n",
    "    return dict(counts)"
   ]
  },
  {
   "cell_type": "code",
   "execution_count": null,
   "id": "6b5f0487",
   "metadata": {},
   "outputs": [],
   "source": []
  },
  {
   "cell_type": "code",
   "execution_count": 234,
   "id": "b54c68a9",
   "metadata": {},
   "outputs": [],
   "source": [
    "from qiskit.quantum_info import random_statevector\n",
    "from qiskit import QuantumCircuit\n",
    "\n",
    "def new(op_list):\n",
    "    simulator = AerSimulator()\n",
    "\n",
    "    state = random_statevector(2)\n",
    "    qc = QuantumCircuit(1,1)\n",
    "    qc.initialize(state, 0)\n",
    "#     print(state.data)\n",
    "\n",
    "    # verification process\n",
    "    qc = verification(op_list, qc)\n",
    "\n",
    "    qc.measure([0], [0])\n",
    "    compiled_circuit = transpile(qc, simulator)\n",
    "\n",
    "    # Execute the circuit on the aer simulator\n",
    "    job = simulator.run(compiled_circuit, shots=1000)\n",
    "\n",
    "    # Grab results from the job\n",
    "    result = job.result()\n",
    "\n",
    "    # Returns counts\n",
    "    counts = result.get_counts(compiled_circuit)\n",
    "#     print(\"\\nTotal count for new verification 0 and 1 are:\", counts)\n",
    "\n",
    "    # Draw the circuit\n",
    "    circuit.draw(\"mpl\")\n",
    "    return dict(counts)"
   ]
  },
  {
   "cell_type": "code",
   "execution_count": 235,
   "id": "f011bdf2",
   "metadata": {},
   "outputs": [
    {
     "name": "stdout",
     "output_type": "stream",
     "text": [
      "['H', 'Z', 'Y', 'Z', 'X', 'Y', 'X', 'Z', 'Z', 'X']\n",
      "new_count = {'0': 216, '1': 784}\n",
      "new_count = {'0': 409, '1': 591}\n",
      "new_count = {'0': 60, '1': 940}\n",
      "new_count = {'1': 139, '0': 861}\n",
      "new_count = {'0': 64, '1': 936}\n",
      "new_count = {'0': 130, '1': 870}\n",
      "new_count = {'1': 214, '0': 786}\n",
      "new_count = {'0': 609, '1': 391}\n",
      "new_count = {'0': 40, '1': 960}\n",
      "new_count = {'1': 334, '0': 666}\n",
      "new_count = {'1': 110, '0': 890}\n",
      "new_count = {'1': 876, '0': 124}\n",
      "new_count = {'0': 331, '1': 669}\n",
      "new_count = {'1': 352, '0': 648}\n",
      "new_count = {'1': 69, '0': 931}\n",
      "new_count = {'1': 799, '0': 201}\n",
      "new_count = {'1': 825, '0': 175}\n",
      "new_count = {'0': 636, '1': 364}\n",
      "new_count = {'1': 579, '0': 421}\n",
      "new_count = {'1': 359, '0': 641}\n",
      "new_count = {'1': 23, '0': 977}\n",
      "new_count = {'0': 664, '1': 336}\n",
      "new_count = {'0': 292, '1': 708}\n",
      "new_count = {'0': 519, '1': 481}\n",
      "new_count = {'1': 461, '0': 539}\n",
      "new_count = {'0': 810, '1': 190}\n",
      "new_count = {'0': 131, '1': 869}\n",
      "new_count = {'1': 701, '0': 299}\n",
      "new_count = {'0': 288, '1': 712}\n",
      "new_count = {'1': 556, '0': 444}\n",
      "new_count = {'1': 696, '0': 304}\n",
      "new_count = {'0': 313, '1': 687}\n",
      "new_count = {'1': 390, '0': 610}\n",
      "new_count = {'0': 57, '1': 943}\n",
      "new_count = {'1': 29, '0': 971}\n",
      "new_count = {'1': 44, '0': 956}\n",
      "new_count = {'1': 2, '0': 998}\n",
      "new_count = {'0': 586, '1': 414}\n",
      "new_count = {'0': 476, '1': 524}\n",
      "new_count = {'0': 332, '1': 668}\n",
      "new_count = {'1': 394, '0': 606}\n",
      "new_count = {'0': 41, '1': 959}\n",
      "new_count = {'0': 126, '1': 874}\n",
      "new_count = {'1': 426, '0': 574}\n",
      "new_count = {'1': 457, '0': 543}\n",
      "new_count = {'1': 99, '0': 901}\n",
      "new_count = {'1': 310, '0': 690}\n",
      "new_count = {'1': 101, '0': 899}\n",
      "new_count = {'1': 339, '0': 661}\n",
      "new_count = {'0': 257, '1': 743}\n"
     ]
    },
    {
     "data": {
      "image/png": "[encoded data removed]",
      "text/plain": [
       "<Figure size 432x288 with 1 Axes>"
      ]
     },
     "metadata": {
      "needs_background": "light"
     },
     "output_type": "display_data"
    }
   ],
   "source": [
    "# Attack with only one qubit\n",
    "import matplotlib.pyplot as plt\n",
    "\n",
    "list_len = 10\n",
    "op_list = get_op_list(list_len)\n",
    "print(op_list)\n",
    "\n",
    "count_ori = []\n",
    "count_new = []\n",
    "res_no_insider = []\n",
    "for i in range(50):\n",
    "    ori_count = origin(op_list)\n",
    "    count_ori.append(ori_count)\n",
    "    new_count = new(op_list)\n",
    "    print(\"new_count =\", new_count)\n",
    "    count_new.append(new_count)\n",
    "    res_no_insider.append(new_count['0'] / 1000)\n",
    "\n",
    "plt.plot(res_no_insider)\n",
    "plt.xlabel('Trial number')\n",
    "plt.ylabel('Successful Attack Rate')\n",
    "plt.savefig(\"/Users/xiangyu/Downloads/attack.pdf\", format=\"pdf\", bbox_inches=\"tight\")\n",
    "\n",
    "# plt.title(\"A simple line graph\")\n",
    "plt.show()\n"
   ]
  },
  {
   "cell_type": "code",
   "execution_count": 236,
   "id": "3aa5d208",
   "metadata": {},
   "outputs": [],
   "source": [
    "def new_cp(op_list):\n",
    "    simulator = AerSimulator()\n",
    "\n",
    "    state = random_statevector(2)\n",
    "    qc = QuantumCircuit(1,1)\n",
    "#     print(state.data)\n",
    "    qc.initialize(state, 0)\n",
    "\n",
    "    # verification process\n",
    "    qc = verification(op_list, qc)\n",
    "\n",
    "    qc.measure([0], [0])\n",
    "    compiled_circuit = transpile(qc, simulator)\n",
    "\n",
    "    # Execute the circuit on the aer simulator\n",
    "    job = simulator.run(compiled_circuit, shots=1)\n",
    "\n",
    "    # Grab results from the job\n",
    "    result = job.result()\n",
    "\n",
    "    # Returns counts\n",
    "    counts = result.get_counts(compiled_circuit)\n",
    "#     print(\"\\nTotal count for new verification 0 and 1 are:\", counts)\n",
    "\n",
    "    # Draw the circuit\n",
    "    circuit.draw(\"mpl\")\n",
    "    return dict(counts)"
   ]
  },
  {
   "cell_type": "code",
   "execution_count": 276,
   "id": "3bd17711",
   "metadata": {},
   "outputs": [
    {
     "name": "stdout",
     "output_type": "stream",
     "text": [
      "['X', 'H', 'H', 'Y', 'X', 'X', 'X', 'Y', 'Z', 'Z']\n"
     ]
    },
    {
     "data": {
      "image/png": "[encoded data removed]",
      "text/plain": [
       "<Figure size 432x288 with 1 Axes>"
      ]
     },
     "metadata": {
      "needs_background": "light"
     },
     "output_type": "display_data"
    }
   ],
   "source": [
    "# Attack with only >1 qubit\n",
    "\n",
    "import matplotlib.pyplot as plt\n",
    "\n",
    "list_len = 10\n",
    "op_list = get_op_list(list_len)\n",
    "print(op_list)\n",
    "\n",
    "num_of_qubit = 16\n",
    "success_rate = []\n",
    "num_of_sim = 20\n",
    "sim_l = []\n",
    "\n",
    "for i in range(1, num_of_qubit):\n",
    "    success_rate = []\n",
    "    for j in range(num_of_sim):\n",
    "        flag = False\n",
    "        for k in range(i):\n",
    "            op_list = get_op_list(list_len)\n",
    "            ori_count = origin(op_list)\n",
    "            new_count = new_cp(op_list)\n",
    "            if '1' in new_count:\n",
    "                flag = True\n",
    "                success_rate.append(0)\n",
    "                break\n",
    "        if flag == False:\n",
    "            success_rate.append(1)        \n",
    "    sim_l.append(sum(success_rate)/len(success_rate))\n",
    "    \n",
    "plt.plot(sim_l)\n",
    "plt.xlabel('# Qubits in the Key')\n",
    "plt.ylabel('Successful Attack Rate')\n",
    "plt.savefig(\"/Users/xiangyu/Downloads/multi_qubits.pdf\", format=\"pdf\", bbox_inches=\"tight\")"
   ]
  },
  {
   "cell_type": "code",
   "execution_count": 241,
   "id": "56fd7f2f",
   "metadata": {},
   "outputs": [
    {
     "name": "stdout",
     "output_type": "stream",
     "text": [
      "[0.3, 0.35, 0.26666666666666666, 0.2, 0.17, 0.16666666666666666, 0.14285714285714285, 0.125, 0.1111111111111111, 0.1, 0.09090909090909091, 0.08333333333333333, 0.07692307692307693, 0.07142857142857142, 0.06666666666666667]\n"
     ]
    }
   ],
   "source": [
    "print(sim_l)"
   ]
  },
  {
   "cell_type": "code",
   "execution_count": 206,
   "id": "dd747118",
   "metadata": {},
   "outputs": [],
   "source": [
    "# Noisy model in Quantum computing"
   ]
  },
  {
   "cell_type": "code",
   "execution_count": 223,
   "id": "2a52670b",
   "metadata": {},
   "outputs": [],
   "source": [
    "import numpy as np\n",
    "from qiskit import execute, QuantumCircuit, QuantumRegister, ClassicalRegister\n",
    "from qiskit.quantum_info import Kraus, SuperOp\n",
    "from qiskit.providers.aer import QasmSimulator\n",
    "from qiskit.tools.visualization import plot_histogram\n",
    "\n",
    "# Import from Qiskit Aer noise module\n",
    "from qiskit.providers.aer.noise import NoiseModel\n",
    "from qiskit.providers.aer.noise import QuantumError, ReadoutError\n",
    "from qiskit.providers.aer.noise import pauli_error\n",
    "from qiskit.providers.aer.noise import depolarizing_error\n",
    "from qiskit.providers.aer.noise import thermal_relaxation_error"
   ]
  },
  {
   "cell_type": "code",
   "execution_count": 224,
   "id": "6bf5d6dd",
   "metadata": {},
   "outputs": [
    {
     "name": "stdout",
     "output_type": "stream",
     "text": [
      "['H', 'Y', 'H', 'Y', 'Y', 'X', 'H', 'X', 'Z', 'X']\n"
     ]
    }
   ],
   "source": [
    "\n"
   ]
  },
  {
   "cell_type": "code",
   "execution_count": null,
   "id": "80725e6e",
   "metadata": {},
   "outputs": [],
   "source": []
  },
  {
   "cell_type": "code",
   "execution_count": 294,
   "id": "4234dbbe",
   "metadata": {},
   "outputs": [],
   "source": [
    "def error_simulate():\n",
    "    list_len = 10\n",
    "    op_list = get_op_list(list_len)\n",
    "    \n",
    "    # Simulator\n",
    "    simulator = QasmSimulator()\n",
    "    state = random_statevector(2)\n",
    "\n",
    "\n",
    "    # System Specification\n",
    "    n_qubits = 1\n",
    "    circ = QuantumCircuit(n_qubits, n_qubits)\n",
    "    circ.initialize(state, 0)\n",
    "\n",
    "    # Test Circuit\n",
    "    circ = verification(op_list, circ)\n",
    "    circ.measure([0], [0])\n",
    "    # no error situation\n",
    "    circ_noerror = QuantumCircuit(n_qubits, n_qubits)\n",
    "\n",
    "\n",
    "    # Test Circuit\n",
    "    circ_noerror = generation(op_list, circ_noerror)\n",
    "    circ_noerror = verification(op_list, circ_noerror)\n",
    "#     print(circ_noerror)\n",
    "    circ_noerror.measure([0], [0])\n",
    "    \n",
    "\n",
    "    # Example error probabilities\n",
    "    p_reset = 0.03\n",
    "    p_meas = 0.1\n",
    "    p_gate1 = 0.05\n",
    "\n",
    "    # QuantumError objects\n",
    "    error_reset = pauli_error([('X', p_reset), ('I', 1 - p_reset)])\n",
    "    error_meas = pauli_error([('X',p_meas), ('I', 1 - p_meas)])\n",
    "    error_gate1 = pauli_error([('X',p_gate1), ('I', 1 - p_gate1)])\n",
    "    error_gate2 = error_gate1.tensor(error_gate1)\n",
    "\n",
    "    # Add errors to noise model\n",
    "    noise_bit_flip = NoiseModel()\n",
    "    noise_bit_flip.add_all_qubit_quantum_error(error_reset, \"reset\")\n",
    "    noise_bit_flip.add_all_qubit_quantum_error(error_meas, \"measure\")\n",
    "    noise_bit_flip.add_all_qubit_quantum_error(error_gate1, [\"u1\", \"u2\", \"u3\"])\n",
    "    noise_bit_flip.add_all_qubit_quantum_error(error_gate2, [\"cx\"])\n",
    "\n",
    "#     print(noise_bit_flip)\n",
    "    # Run the noisy simulation\n",
    "    job = execute(circ, simulator,\n",
    "                  basis_gates=noise_bit_flip.basis_gates,\n",
    "                  noise_model=noise_bit_flip,shots=1)\n",
    "    result_bit_flip = job.result()\n",
    "    counts_bit_flip = result_bit_flip.get_counts(0)\n",
    "    \n",
    "    job_benchmark = execute(circ_noerror, simulator,\n",
    "                  basis_gates=noise_bit_flip.basis_gates,\n",
    "                  noise_model=noise_bit_flip,shots=1)\n",
    "    result_bit_flip_benchmark = job_benchmark.result()\n",
    "    counts_bit_flip_benchmark = result_bit_flip_benchmark.get_counts(0)\n",
    "\n",
    "#     print(\"counts_bit_flip =\", counts_bit_flip)\n",
    "#     print(\"counts_bit_flip_benchmark =\", counts_bit_flip_benchmark)\n",
    "    return counts_bit_flip, counts_bit_flip_benchmark"
   ]
  },
  {
   "cell_type": "code",
   "execution_count": 296,
   "id": "c576ab31",
   "metadata": {},
   "outputs": [
    {
     "name": "stdout",
     "output_type": "stream",
     "text": [
      "false_but_accept = [0.35, 0.18181818181818182, 0.0, 0.07894736842105263, 0.025, 0.022222222222222223, 0.0, 0.0, 0.0, 0.0, 0.0, 0.0, 0.0, 0.0, 0.0]\n",
      "true_but_reject = [0.0, 0.2, 0.42857142857142855, 0.25, 0.6, 0.6, 0.35, 0.45, 0.5714285714285714, 0.8571428571428571, 0.9, 0.75, 0.75, 0.65, 0.8095238095238095]\n"
     ]
    }
   ],
   "source": [
    "simulate_num = 20\n",
    "num_of_qubit = 16\n",
    "true_but_reject = []\n",
    "success_rate = []\n",
    "false_but_accept = []\n",
    "\n",
    "for i in range(1, num_of_qubit):\n",
    "    success_attack_rate = []\n",
    "    success_defend_rate = []\n",
    "    for j in range(simulate_num):\n",
    "        flag_attack = True\n",
    "        flag_verify = True\n",
    "        for k in range(i):\n",
    "            counts_bit_flip, counts_bit_flip_benchmark = error_simulate()\n",
    "            if '1' in counts_bit_flip:\n",
    "                flag_attack = False\n",
    "                success_attack_rate.append(0)\n",
    "            if '1' in counts_bit_flip_benchmark:\n",
    "                flag_verify = False\n",
    "                success_defend_rate.append(1)\n",
    "            if flag_attack == False and flag_verify == False:\n",
    "                break\n",
    "        if flag_attack == True:\n",
    "            success_attack_rate.append(1) \n",
    "        if flag_verify == True:\n",
    "            success_defend_rate.append(0)\n",
    "    false_but_accept.append(sum(success_attack_rate)/len(success_attack_rate))\n",
    "    true_but_reject.append(sum(success_defend_rate)/len(success_defend_rate))\n",
    "print(\"false_but_accept =\", false_but_accept)\n",
    "print(\"true_but_reject =\", true_but_reject)"
   ]
  },
  {
   "cell_type": "code",
   "execution_count": 297,
   "id": "28f06dc5",
   "metadata": {},
   "outputs": [
    {
     "data": {
      "image/png": "[encoded data removed]",
      "text/plain": [
       "<Figure size 432x288 with 1 Axes>"
      ]
     },
     "metadata": {
      "needs_background": "light"
     },
     "output_type": "display_data"
    }
   ],
   "source": [
    "plt.plot(false_but_accept,label=\"False positive\")\n",
    "plt.plot(true_but_reject,label=\"False negative\")\n",
    "\n",
    "plt.xlabel('# Qubits in the Key')\n",
    "plt.ylabel('Rate')\n",
    "plt.savefig(\"/Users/xiangyu/Downloads/noise.pdf\", format=\"pdf\", bbox_inches=\"tight\")\n",
    "plt.legend(loc=\"upper left\")\n",
    "# plt.title(\"A simple line graph\")\n",
    "plt.show()\n"
   ]
  },
  {
   "cell_type": "code",
   "execution_count": 287,
   "id": "51587ea8",
   "metadata": {},
   "outputs": [
    {
     "name": "stdout",
     "output_type": "stream",
     "text": [
      "[0.0, 0.3333333333333333, 0.0, 0.5]\n"
     ]
    }
   ],
   "source": [
    "print(false_but_accept)"
   ]
  },
  {
   "cell_type": "code",
   "execution_count": 288,
   "id": "9d7be420",
   "metadata": {},
   "outputs": [
    {
     "name": "stdout",
     "output_type": "stream",
     "text": [
      "[0.0, 0.5, 0.5, 0.0]\n"
     ]
    }
   ],
   "source": [
    "print(true_but_reject)"
   ]
  },
  {
   "cell_type": "code",
   "execution_count": null,
   "id": "e2dcda59",
   "metadata": {},
   "outputs": [],
   "source": []
  }
 ],
 "metadata": {
  "kernelspec": {
   "display_name": "Python 3 (ipykernel)",
   "language": "python",
   "name": "python3"
  },
  "language_info": {
   "codemirror_mode": {
    "name": "ipython",
    "version": 3
   },
   "file_extension": ".py",
   "mimetype": "text/x-python",
   "name": "python",
   "nbconvert_exporter": "python",
   "pygments_lexer": "ipython3",
   "version": "3.9.12"
  }
 },
 "nbformat": 4,
 "nbformat_minor": 5
}
